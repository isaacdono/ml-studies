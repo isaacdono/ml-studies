{
  "nbformat": 4,
  "nbformat_minor": 0,
  "metadata": {
    "colab": {
      "provenance": [],
      "gpuType": "T4",
      "mount_file_id": "1hNg9bDM8LuOppZHeY81BdUR9PzHePfvU",
      "authorship_tag": "ABX9TyM71xwDeqNHKUgTA0AAb3aC",
      "include_colab_link": true
    },
    "kernelspec": {
      "name": "python3",
      "display_name": "Python 3"
    },
    "language_info": {
      "name": "python"
    },
    "accelerator": "GPU"
  },
  "cells": [
    {
      "cell_type": "markdown",
      "metadata": {
        "id": "view-in-github",
        "colab_type": "text"
      },
      "source": [
        "<a href=\"https://colab.research.google.com/github/isaacdono/ml-studies/blob/main/deep%20learning/fine_tuning.ipynb\" target=\"_parent\"><img src=\"https://colab.research.google.com/assets/colab-badge.svg\" alt=\"Open In Colab\"/></a>"
      ]
    },
    {
      "cell_type": "markdown",
      "source": [
        "# 📝 Guia Prático de Fine-Tuning: Llama 3 8B com QLoRA\n",
        "\n",
        "Olá! Este notebook é seu guia passo a passo para o mundo do fine-tuning de LLMs. Como estudante de Engenharia de Computação, é crucial entender não apenas *como* fazer, mas *por que* as técnicas funcionam.\n",
        "\n",
        "### As Estratégias de Fine-Tuning\n",
        "\n",
        "1.  **Full Fine-Tuning**:\n",
        "    * **O que é?** Ajustar *todos* os bilhões de pesos do modelo.\n",
        "    * **Problema:** Requer uma quantidade massiva de VRAM (memória de GPU), sendo inviável para modelos de 8B em hardware comum ou no Colab. Um modelo de 8B com precisão total (32-bit) precisaria de `8B * 4 bytes = 32 GB` de VRAM só para ser carregado, sem contar a memória extra para o treinamento.\n",
        "\n",
        "2.  **PEFT (Parameter-Efficient Fine-Tuning)**:\n",
        "    * **O que é?** Uma família de técnicas que congela os pesos originais do LLM (que são 99.9% do total) e treina apenas um número minúsculo de novos parâmetros \"adaptadores\".\n",
        "    * **Vantagem:** Redução drástica no uso de memória e aceleração do treino.\n",
        "\n",
        "3.  **LoRA (Low-Rank Adaptation)**:\n",
        "    * **A Estrela do PEFT.** A ideia é que a \"atualização\" dos pesos para uma nova tarefa pode ser representada por matrizes de baixo posto (muito menores). Em vez de modificar uma matriz de peso gigante `W`, adicionamos o resultado de duas matrizes pequenas, `A` e `B`, que são treináveis (`W' = W + B*A`).\n",
        "\n",
        "4.  **QLoRA (Quantized LoRA)**:\n",
        "    * **A Magia que nos permite rodar no Colab.** É uma otimização do LoRA que faz duas coisas geniais:\n",
        "        1.  **Quantização:** Carrega o modelo principal (Llama 3 8B) com precisão reduzida (4-bit em vez de 16-bit), cortando o uso de memória em 4x.\n",
        "        2.  **Adaptação LoRA:** Treina os adaptadores LoRA normalmente sobre esse modelo quantizado.\n",
        "\n",
        "**Nosso objetivo hoje:** Vamos ensinar o `Meta Llama 3 8B Instruct` a responder a um comando em linguagem natural com um output em formato JSON bem estruturado, uma tarefa muito útil em engenharia de software."
      ],
      "metadata": {
        "id": "95WlRId6ArIg"
      }
    },
    {
      "cell_type": "code",
      "execution_count": null,
      "metadata": {
        "id": "omm0t12iAi-Y"
      },
      "outputs": [],
      "source": [
        "!pip install transformers\n",
        "!pip install accelerate\n",
        "!pip install bitsandbytes\n",
        "!pip install peft\n",
        "!pip install trl\n",
        "!pip install triton\n"
      ]
    },
    {
      "cell_type": "code",
      "source": [
        "from huggingface_hub import login\n",
        "from google.colab import userdata\n",
        "\n",
        "# Retrieve the HF_TOKEN from Colab secrets and login\n",
        "hf_token = userdata.get(\"HF_TOKEN\")\n",
        "login(token=hf_token)"
      ],
      "metadata": {
        "id": "3wlRR6kQbNzK"
      },
      "execution_count": null,
      "outputs": []
    },
    {
      "cell_type": "code",
      "source": [
        "# Para este exemplo, não vamos usar um dataset externo.\n",
        "# Vamos criar um pequeno dataset na mão para ensinar o modelo a estruturar saídas em JSON.\n",
        "\n",
        "from datasets import Dataset\n",
        "\n",
        "# Nosso objetivo é transformar um texto não estruturado sobre um usuário em um JSON.\n",
        "instructions = [\n",
        "    \"Extraia o nome, a idade e a cidade de: 'O usuário João Silva tem 28 anos e mora em São Paulo.'\",\n",
        "    \"Transforme em JSON os dados de: 'Ana Souza, 35 anos, residente do Rio de Janeiro.'\",\n",
        "    \"Formate as seguintes informações: 'Carlos Pereira, de Curitiba, tem 42 anos.'\"\n",
        "]\n",
        "\n",
        "outputs = [\n",
        "    '{\"nome\": \"João Silva\", \"idade\": 28, \"cidade\": \"São Paulo\"}',\n",
        "    '{\"nome\": \"Ana Souza\", \"idade\": 35, \"cidade\": \"Rio de Janeiro\"}',\n",
        "    '{\"nome\": \"Carlos Pereira\", \"idade\": 42, \"cidade\": \"Curitiba\"}'\n",
        "]\n",
        "\n",
        "# O formato do prompt é crucial para modelos \"instruct\".\n",
        "# O Mistral também usa um formato específico.\n",
        "# Vamos formatar nossos dados nesse padrão.\n",
        "formatted_data = []\n",
        "for instruction, output in zip(instructions, outputs):\n",
        "    # Mistral prompt format\n",
        "    text = f\"[INST]{instruction}[/INST]{output}\"\n",
        "    formatted_data.append({\"text\": text})\n",
        "\n",
        "# Criando um objeto Dataset da Hugging Face\n",
        "dataset = Dataset.from_dict({\"text\": [item[\"text\"] for item in formatted_data]})\n",
        "\n",
        "print(\"Exemplo de um item do dataset formatado:\")\n",
        "print(dataset[0]['text'])"
      ],
      "metadata": {
        "id": "DiPtigwsBGly"
      },
      "execution_count": null,
      "outputs": []
    },
    {
      "cell_type": "code",
      "source": [
        "from peft import LoraConfig, get_peft_model, prepare_model_for_kbit_training\n",
        "from transformers import AutoModelForCausalLM, AutoTokenizer, BitsAndBytesConfig\n",
        "import torch\n",
        "\n",
        "# Carregando o modelo base\n",
        "model_id = \"google/gemma-2b\"\n",
        "\n",
        "# Configuração de quantização (4-bit)\n",
        "bnb_config = BitsAndBytesConfig(\n",
        "    load_in_4bit=True,\n",
        "    bnb_4bit_quant_type=\"nf4\",\n",
        "    bnb_4bit_compute_dtype=torch.float16,\n",
        "    bnb_4bit_use_double_quant=False,\n",
        ")\n",
        "\n",
        "model = AutoModelForCausalLM.from_pretrained(\n",
        "    model_id,\n",
        "    quantization_config=bnb_config,\n",
        "    device_map=\"auto\",\n",
        "    trust_remote_code=True,\n",
        "    torch_dtype=\"auto\"\n",
        ")\n",
        "\n",
        "# Carregando o tokenizer\n",
        "tokenizer = AutoTokenizer.from_pretrained(model_id)\n",
        "tokenizer.pad_token = tokenizer.eos_token\n",
        "\n",
        "\n",
        "# Ativa otimizações para o treino com quantização\n",
        "model.config.use_cache = False\n",
        "model.config.pretraining_tp = 1\n",
        "model = prepare_model_for_kbit_training(model)\n",
        "\n",
        "# Configuração dos adaptadores LoRA\n",
        "lora_config = LoraConfig(\n",
        "    r=8,  # \"rank\" da decomposição. Um valor maior treina mais parâmetros, mas pode levar a overfitting. 16 é um bom começo.\n",
        "    lora_alpha=16, # Parâmetro de escala. A regra geral é que seja 2 * r.\n",
        "    target_modules=[\"q_proj\", \"k_proj\", \"v_proj\", \"o_proj\", \"gate_proj\", \"up_proj\", \"down_proj\"], # Common target modules for decoder models\n",
        "    lora_dropout=0.05, # Dropout para regularização\n",
        "    bias=\"none\",\n",
        "    task_type=\"CAUSAL_LM\" # Tarefa de modelagem de linguagem causal\n",
        ")\n",
        "\n",
        "# Aplica o wrapper PEFT no nosso modelo\n",
        "peft_model = get_peft_model(model, lora_config)\n",
        "\n",
        "# Imprime o número de parâmetros treináveis para vermos a mágica do PEFT\n",
        "peft_model.print_trainable_parameters()\n",
        "# Você verá que o número de parâmetros treináveis é < 1% do total!"
      ],
      "metadata": {
        "id": "ogwLg0cQBIAo"
      },
      "execution_count": null,
      "outputs": []
    },
    {
      "cell_type": "code",
      "source": [
        "# Célula 7: Execução do Treinamento\n",
        "from transformers import TrainingArguments\n",
        "from trl import SFTTrainer\n",
        "import bitsandbytes\n",
        "\n",
        "# Argumentos do treinamento\n",
        "training_args = TrainingArguments(\n",
        "    output_dir=\"./google/gemma-2b-json-finetune\", # Diretório para salvar o modelo\n",
        "    per_device_train_batch_size=1, # Batch size pequeno para caber na memória\n",
        "    gradient_accumulation_steps=4, # Simula um batch size maior (1*4=4) para estabilizar o treino\n",
        "    learning_rate=2e-4, # Taxa de aprendizado\n",
        "    max_steps=100, # Número de passos de treino. Com um dataset pequeno, 100 é suficiente.\n",
        "    logging_steps=10, # Logar o progresso a cada 10 passos\n",
        "    fp16=True, # Usar precisão de 16-bit para o treino\n",
        "    # bf16=True, # Uncomment this line if your GPU supports bfloat16\n",
        "    push_to_hub=False,# Set to True to push your model to the Hugging Face Hub\n",
        ")\n",
        "\n",
        "# Criando o objeto Trainer\n",
        "trainer = SFTTrainer(\n",
        "    model=peft_model,\n",
        "    train_dataset=dataset,\n",
        "    args=training_args,\n",
        "    max_seq_length=512, # Comprimento máximo da sequência\n",
        "    tokenizer=tokenizer,\n",
        "    dataset_text_field=\"text\", # O campo do nosso dataset que contém o texto formatado\n",
        "    # packing=True, # Uncomment this line to use packing (more efficient for short sequences)\n",
        ")\n",
        "\n",
        "# Inicia o treinamento\n",
        "trainer.train()"
      ],
      "metadata": {
        "id": "aXkzg5W_BJuo"
      },
      "execution_count": null,
      "outputs": []
    },
    {
      "cell_type": "code",
      "source": [
        "from google.colab import drive\n",
        "drive.mount('/content/drive')"
      ],
      "metadata": {
        "id": "Zsu-kwyy0GJA"
      },
      "execution_count": null,
      "outputs": []
    },
    {
      "cell_type": "code",
      "source": [
        "# Crie uma pasta no seu Drive para guardar os modelos (só precisa rodar uma vez)\n",
        "!mkdir -p /content/drive/MyDrive/meus_modelos_ic/\n",
        "\n",
        "# Copie a pasta do seu adaptador treinado para o Google Drive\n",
        "!cp -r ./google/gemma-2b-json-finetune/ /content/drive/MyDrive/meus_modelos_ic/\n",
        "print(\"Adaptador salvo com segurança no Google Drive!\")"
      ],
      "metadata": {
        "id": "diZVdFqy0R10"
      },
      "execution_count": null,
      "outputs": []
    },
    {
      "cell_type": "code",
      "source": [
        "# Delete peft_model and clear cache to free up memory\n",
        "# del peft_model\n",
        "torch.cuda.empty_cache()\n",
        "\n",
        "print(\"peft_model deleted and CUDA cache cleared.\")"
      ],
      "metadata": {
        "id": "O1N4lV6bwcJG"
      },
      "execution_count": null,
      "outputs": []
    },
    {
      "cell_type": "code",
      "source": [
        "# Delete some libraries"
      ],
      "metadata": {
        "id": "YsLldq825vcc"
      },
      "execution_count": null,
      "outputs": []
    },
    {
      "cell_type": "markdown",
      "source": [
        "# 🧬 Parte 2: Mesclando (Merging) seu Adaptador LoRA\n",
        "\n",
        "Parabéns, você treinou um adaptador LoRA! No entanto, no estado atual, você tem duas partes: o modelo base gigante (Llama 3 8B) e seu pequeno adaptador LoRA. Para fazer uma inferência, você precisa carregar ambos.\n",
        "\n",
        "A **mesclagem** é o processo de \"fundir\" os pesos do seu adaptador LoRA de volta aos pesos do modelo base. O resultado é um **único modelo autônomo** que já contém a sua especialização.\n",
        "\n",
        "### Por que mesclar?\n",
        "\n",
        "1.  **Simplificação de Deploy:** Em vez de gerenciar o modelo base + o adaptador, você distribui um único modelo. É muito mais simples para colocar em produção.\n",
        "2.  **Performance de Inferência:** A inferência pode ser ligeiramente mais rápida, pois o modelo não precisa mais combinar dinamicamente os pesos do LoRA com os pesos base a cada passada. O cálculo `W' = W + B*A` já foi feito e \"assado\" no modelo.\n",
        "3.  **Compartilhamento:** Permite que você compartilhe seu modelo fine-tuned completo na Hugging Face como um novo modelo, e não apenas como um adaptador.\n",
        "\n",
        "Vamos ver como fazer isso na prática."
      ],
      "metadata": {
        "id": "aLwgk5gQBZg_"
      }
    },
    {
      "cell_type": "code",
      "source": [
        "from google.colab import drive\n",
        "drive.mount('/content/drive')\n",
        "\n",
        "# Caminho para o adaptador salvo no seu Google Drive\n",
        "adapter_path = \"/content/drive/MyDrive/meus_modelos_ic/google/gemma-2b-json-finetune\""
      ],
      "metadata": {
        "id": "-FuE1Fc82_gF"
      },
      "execution_count": null,
      "outputs": []
    },
    {
      "cell_type": "code",
      "source": [
        "# Célula 11: Carregando o Modelo Base e o Adaptador para Mesclagem\n",
        "import torch\n",
        "from transformers import AutoTokenizer, AutoModelForCausalLM, BitsAndBytesConfig\n",
        "from peft import PeftModel\n",
        "\n",
        "# --- Carregando o Modelo Base ---\n",
        "# Desta vez, vamos carregar o modelo em precisão reduzida (4-bit)\n",
        "# para a mesclagem, caso a versão de 16-bit exija muita memória.\n",
        "\n",
        "model_id = \"google/gemma-2b\"\n",
        "\n",
        "# Configuração de quantização (4-bit)\n",
        "bnb_config = BitsAndBytesConfig(\n",
        "    load_in_4bit=True,\n",
        "    bnb_4bit_quant_type=\"nf4\",\n",
        "    bnb_4bit_compute_dtype=torch.float16,\n",
        "    bnb_4bit_use_double_quant=False,\n",
        ")\n",
        "\n",
        "base_model = AutoModelForCausalLM.from_pretrained(\n",
        "    model_id,\n",
        "    quantization_config=bnb_config, # Use the 4-bit quantization config\n",
        "    device_map=\"auto\", # Explicitly set device_map to auto\n",
        "    trust_remote_code=True,\n",
        ")\n",
        "\n",
        "tokenizer = AutoTokenizer.from_pretrained(model_id)\n",
        "tokenizer.pad_token = tokenizer.eos_token\n",
        "\n",
        "# --- Carregando o Adaptador PEFT ---\n",
        "# Apontamos para o diretório onde o `trainer` salvou nosso adaptador LoRA.\n",
        "peft_model = PeftModel.from_pretrained(base_model, adapter_path)\n",
        "\n",
        "print(\"Modelo base e adaptador carregados com sucesso.\")"
      ],
      "metadata": {
        "id": "NiaESspxBPWK"
      },
      "execution_count": null,
      "outputs": []
    },
    {
      "cell_type": "code",
      "source": [
        "# Célula 12: Executando a Mesclagem e Testando o Modelo Final\n",
        "\n",
        "# Este é o comando mágico que funde os pesos!\n",
        "# Ele \"descarrega\" o wrapper PEFT e retorna um modelo transformers padrão.\n",
        "merged_model = peft_model.merge_and_unload()\n",
        "\n",
        "print(\"Mesclagem concluída!\")\n",
        "\n",
        "# --- Teste do Modelo Mesclado ---\n",
        "# Agora, podemos usar este `merged_model` como qualquer outro modelo da Hugging Face.\n",
        "# Note que não precisamos mais do objeto `peft_model` aqui.\n",
        "\n",
        "from transformers import pipeline\n",
        "\n",
        "# O mesmo prompt de teste que usamos antes\n",
        "test_prompt = tokenizer.apply_chat_template(\n",
        "    [{\"role\": \"user\", \"content\": \"Extraia as informações de 'Mariana Lima, 25 anos, de Salvador.' em formato JSON.\"}],\n",
        "    tokenize=False,\n",
        "    add_generation_prompt=True\n",
        ")\n",
        "\n",
        "# Criamos um pipeline com o nosso NOVO modelo mesclado\n",
        "merged_pipe = pipeline(\"text-generation\", model=merged_model, tokenizer=tokenizer)\n",
        "\n",
        "# Executamos a inferência\n",
        "merged_output = merged_pipe(test_prompt, max_new_tokens=50, do_sample=False)\n",
        "\n",
        "print(\"\\n--- Resposta do Modelo Mesclado e Autônomo ---\")\n",
        "print(merged_output[0]['generated_text'])\n",
        "\n",
        "# O resultado deve ser idêntico ao do modelo com o adaptador PEFT,\n",
        "# provando que a mesclagem foi um sucesso!"
      ],
      "metadata": {
        "id": "-UWv8pxZBdpy"
      },
      "execution_count": null,
      "outputs": []
    },
    {
      "cell_type": "code",
      "source": [
        "# Célula 13: Salvando o Modelo Mesclado Completo para o Disco\n",
        "\n",
        "# Agora você tem um modelo completo. Vamos salvá-lo.\n",
        "# Este diretório conterá todos os arquivos necessários para carregar o modelo\n",
        "# sem precisar do código do fine-tuning ou dos adaptadores.\n",
        "\n",
        "output_merged_dir = \"./google/gemma-2b-json-finetune\" # Updated output directory\n",
        "\n",
        "merged_model.save_pretrained(output_merged_dir)\n",
        "tokenizer.save_pretrained(output_merged_dir)\n",
        "\n",
        "print(f\"Modelo mesclado completo salvo em: {output_merged_dir}\")\n",
        "# A partir daqui, você poderia carregar este modelo com um simples:\n",
        "# AutoModelForCausalLM.from_pretrained(\"./google/gemma-2b-json-finetune\")"
      ],
      "metadata": {
        "id": "ACn47GBYBgJh"
      },
      "execution_count": null,
      "outputs": []
    },
    {
      "cell_type": "markdown",
      "source": [
        "# 🧬🧪 Tópico Avançado: Mesclando Múltiplos Modelos com `mergekit`\n",
        "\n",
        "E se você tivesse treinado **vários adaptadores** LoRA?\n",
        "* Um para gerar JSON (o que fizemos).\n",
        "* Outro para ser um especialista em programação Python.\n",
        "* Um terceiro para escrever de forma criativa.\n",
        "\n",
        "Você pode mesclá-los para criar um \"super-modelo\" que faz tudo isso. A função `.merge_and_unload()` não é ideal para isso. A ferramenta padrão da comunidade é a **`mergekit`**.\n",
        "\n",
        "`mergekit` funciona com um arquivo de configuração YAML onde você especifica os modelos e a estratégia de mesclagem.\n",
        "\n",
        "**Exemplo de um arquivo `config.yml` para `mergekit`:**\n",
        "\n",
        "```yaml\n",
        "# Define o modelo base que servirá de alicerce\n",
        "base_model: meta-llama/Meta-Llama-3-8B-Instruct\n",
        "\n",
        "# Lista os adaptadores LoRA que você quer mesclar sobre o base\n",
        "slices:\n",
        "  - sources:\n",
        "      # Nosso primeiro adaptador treinado\n",
        "      - model: ./llama3-8b-json-finetune\n",
        "        # Damos um peso positivo para sua contribuição\n",
        "        positive_prompt: '{\"nome\": \"João\", \"idade\": 30, \"cidade\": \"Qualquer\"}'\n",
        "      # Imagine um segundo adaptador treinado para Python\n",
        "      - model: ./llama3-8b-python-coder-finetune\n",
        "        positive_prompt: 'def hello_world(): print(\"Hello, World!\")'\n",
        "\n",
        "# Define o método de mesclagem (SLERP é geralmente melhor que a média linear)\n",
        "merge_method: ties\n",
        "# Define a precisão dos números no modelo final\n",
        "dtype: bfloat16"
      ],
      "metadata": {
        "id": "bwAi-t71BqMR"
      }
    },
    {
      "cell_type": "code",
      "source": [],
      "metadata": {
        "id": "fO_2RPlKCOhq"
      },
      "execution_count": null,
      "outputs": []
    }
  ]
}