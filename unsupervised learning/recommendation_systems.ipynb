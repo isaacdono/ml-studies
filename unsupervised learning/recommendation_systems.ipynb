{
  "nbformat": 4,
  "nbformat_minor": 0,
  "metadata": {
    "colab": {
      "provenance": [],
      "authorship_tag": "ABX9TyOUVZy+f+eMyo/doFcACaRC",
      "include_colab_link": true
    },
    "kernelspec": {
      "name": "python3",
      "display_name": "Python 3"
    },
    "language_info": {
      "name": "python"
    }
  },
  "cells": [
    {
      "cell_type": "markdown",
      "metadata": {
        "id": "view-in-github",
        "colab_type": "text"
      },
      "source": [
        "<a href=\"https://colab.research.google.com/github/isaacdono/ml-studies/blob/main/recommendation_systems.ipynb\" target=\"_parent\"><img src=\"https://colab.research.google.com/assets/colab-badge.svg\" alt=\"Open In Colab\"/></a>"
      ]
    },
    {
      "cell_type": "markdown",
      "source": [
        "# Estudo Prático: Sistemas de Recomendação\n",
        "\n",
        "Sistemas de Recomendação estão por toda parte, desde a Netflix sugerindo filmes até a Amazon recomendando produtos. O objetivo é prever o interesse de um usuário em um item.\n",
        "\n",
        "Neste notebook, vamos explorar a abordagem mais clássica: a **Filtragem Colaborativa (Collaborative Filtering)**.\n",
        "\n",
        "A ideia é fazer recomendações com base na \"sabedoria das massas\":\n",
        "1.  **User-Based CF**: Encontra usuários com gostos parecidos com os seus e recomenda itens que eles gostaram e você ainda não viu. (\"*Usuários parecidos com você também gostaram de...*\")\n",
        "2.  **Item-Based CF**: Encontra itens similares a um que você gostou e os recomenda. (\"*Usuários que gostaram deste item também gostaram de...*\")\n",
        "\n",
        "Vamos implementar ambos do zero usando um pequeno conjunto de dados."
      ],
      "metadata": {
        "id": "XMModk6GOwV4"
      }
    },
    {
      "cell_type": "code",
      "source": [
        "import pandas as pd\n",
        "from sklearn.metrics.pairwise import cosine_similarity\n",
        "\n",
        "print(\"Bibliotecas importadas com sucesso!\")\n",
        "\n",
        "# ====================================================================\n",
        "# Célula 3: Criando o Conjunto de Dados\n",
        "# ====================================================================\n",
        "\n",
        "# Vamos criar um DataFrame simples com avaliações de filmes de usuários.\n",
        "# As notas vão de 1 a 5. NaN significa que o usuário não avaliou o filme.\n",
        "data = {\n",
        "    'Ana': {'Matrix': 5, 'Titanic': 3, 'O Poderoso Chefão': 4, 'Forrest Gump': None, 'Interestelar': 5},\n",
        "    'Bruno': {'Matrix': 5, 'Titanic': 2, 'O Poderoso Chefão': None, 'Forrest Gump': 3, 'Interestelar': 4},\n",
        "    'Carla': {'Matrix': 2, 'Titanic': 5, 'O Poderoso Chefão': 2, 'Forrest Gump': 5, 'Interestelar': 2},\n",
        "    'Daniel': {'Matrix': None, 'Titanic': 4, 'O Poderoso Chefão': 5, 'Forrest Gump': 5, 'Interestelar': None},\n",
        "    'Elisa': {'Matrix': 4, 'Titanic': None, 'O Poderoso Chefão': 5, 'Forrest Gump': 2, 'Interestelar': 5}\n",
        "}\n",
        "\n",
        "ratings_df = pd.DataFrame(data)\n",
        "\n",
        "print(\"Matriz de Avaliações (Usuário-Item):\")\n",
        "ratings_df\n"
      ],
      "metadata": {
        "id": "VQPdxnLmOxyg"
      },
      "execution_count": null,
      "outputs": []
    },
    {
      "cell_type": "code",
      "source": [
        "\"\"\"\n",
        "### Abordagem 1: Filtragem Colaborativa Baseada no Usuário (User-Based)\n",
        "\n",
        "**Objetivo**: Recomendar filmes para a `Ana`.\n",
        "\n",
        "**Passos**:\n",
        "1.  Encontrar o usuário mais parecido com a `Ana`.\n",
        "2.  Ver quais filmes esse usuário gostou e que a `Ana` ainda não viu.\n",
        "\"\"\"\n",
        "\n",
        "# Passo 1: Calcular a similaridade entre usuários\n",
        "# Primeiro, preenchemos os NaNs com 0 para que o cálculo da similaridade funcione.\n",
        "# A matriz precisa ser (amostras, features), então usamos .T (transposta)\n",
        "ratings_filled = ratings_df.fillna(0)\n",
        "user_similarity = cosine_similarity(ratings_filled.T)\n",
        "\n",
        "# Transformando em um DataFrame para melhor visualização\n",
        "user_sim_df = pd.DataFrame(user_similarity, index=ratings_df.columns, columns=ratings_df.columns)\n",
        "\n",
        "print(\"Matriz de Similaridade entre Usuários:\")\n",
        "print(user_sim_df)\n",
        "\n",
        "\n",
        "# Passo 2: Fazer a recomendação para a 'Ana'\n",
        "target_user = 'Ana'\n",
        "\n",
        "# Encontra usuários similares (exceto ela mesma)\n",
        "similar_users = user_sim_df[target_user].sort_values(ascending=False)[1:]\n",
        "print(f\"\\nUsuários mais similares à {target_user}:\\n{similar_users}\")\n",
        "\n",
        "# Pegando o usuário mais similar\n",
        "most_similar_user = similar_users.index[0]\n",
        "print(f\"\\nO usuário mais similar é: {most_similar_user}\")\n",
        "\n",
        "# Encontrando filmes que o usuário similar avaliou bem e que a Ana não viu\n",
        "recommendations = []\n",
        "similar_user_ratings = ratings_df[most_similar_user]\n",
        "\n",
        "for movie, rating in similar_user_ratings.items():\n",
        "    # Se o usuário similar gostou do filme (nota >= 4) e a Ana não viu (NaN)\n",
        "    if rating >= 4 and pd.isna(ratings_df.loc[movie, target_user]):\n",
        "        recommendations.append(movie)\n",
        "\n",
        "print(f\"\\nRecomendação para {target_user} com base em {most_similar_user}: {recommendations}\")"
      ],
      "metadata": {
        "id": "OUf6hEeKO2zb"
      },
      "execution_count": null,
      "outputs": []
    },
    {
      "cell_type": "code",
      "source": [
        "\"\"\"\n",
        "### Abordagem 2: Filtragem Colaborativa Baseada no Item (Item-Based)\n",
        "\n",
        "**Objetivo**: Dado que a `Ana` gostou de 'Matrix', o que mais ela poderia gostar?\n",
        "\n",
        "**Passos**:\n",
        "1.  Encontrar o filme mais parecido com 'Matrix'.\n",
        "2.  Recomendar esse filme para a `Ana` (se ela ainda não o viu).\n",
        "\"\"\"\n",
        "\n",
        "# Passo 1: Calcular a similaridade entre itens (filmes)\n",
        "# Desta vez, calculamos a similaridade na matriz original (item-usuário)\n",
        "item_similarity = cosine_similarity(ratings_filled)\n",
        "\n",
        "# Transformando em um DataFrame\n",
        "item_sim_df = pd.DataFrame(item_similarity, index=ratings_df.index, columns=ratings_df.index)\n",
        "\n",
        "print(\"Matriz de Similaridade entre Itens (Filmes):\")\n",
        "print(item_sim_df)\n",
        "\n",
        "# Passo 2: Fazer a recomendação com base em um filme\n",
        "target_movie = 'Matrix'\n",
        "\n",
        "# Encontra filmes similares (exceto ele mesmo)\n",
        "similar_movies = item_sim_df[target_movie].sort_values(ascending=False)[1:]\n",
        "print(f\"\\nFilmes mais similares a '{target_movie}':\\n{similar_movies}\")\n",
        "\n",
        "# Pegando o filme mais similar\n",
        "most_similar_movie = similar_movies.index[0]\n",
        "\n",
        "# Verificando se a Ana já viu o filme mais similar\n",
        "if pd.isna(ratings_df.loc[most_similar_movie, target_user]):\n",
        "    print(f\"\\nRecomendação para {target_user}: Como você gostou de '{target_movie}', talvez goste de '{most_similar_movie}'.\")\n",
        "else:\n",
        "    print(f\"\\nNão há novas recomendações baseadas em '{target_movie}', pois o filme mais similar ('{most_similar_movie}') já foi visto por {target_user}.\")"
      ],
      "metadata": {
        "id": "N1e1HzTcO7D7"
      },
      "execution_count": null,
      "outputs": []
    },
    {
      "cell_type": "code",
      "source": [
        "\"\"\"\n",
        "### Conclusão\n",
        "\n",
        "Neste notebook, implementamos duas abordagens fundamentais de filtragem colaborativa:\n",
        "\n",
        "-   **User-Based CF**: Ótima para encontrar pessoas com gostos parecidos e explorar o que elas consomem. Pode sofrer com a **esparsidade dos dados** (quando os usuários avaliam poucos itens em comum).\n",
        "-   **Item-Based CF**: Geralmente mais estável, pois a similaridade entre itens muda com menos frequência do que os gostos dos usuários. É a base de muitas recomendações de produtos (\"*clientes que compraram X também compraram Y*\").\n",
        "\n",
        "Ambas as técnicas são a base para sistemas mais complexos. O próximo passo em seus estudos seria explorar métodos de **Fatoração de Matrizes (Matrix Factorization)**, como SVD, que são **modelos latentes** capazes de capturar características implícitas de usuários e itens para fazer previsões de notas mais precisas.\n",
        "\"\"\""
      ],
      "metadata": {
        "id": "omEQ0P8rPAj0"
      },
      "execution_count": null,
      "outputs": []
    }
  ]
}