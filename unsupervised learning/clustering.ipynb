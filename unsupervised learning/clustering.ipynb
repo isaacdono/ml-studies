{
  "nbformat": 4,
  "nbformat_minor": 0,
  "metadata": {
    "colab": {
      "provenance": [],
      "authorship_tag": "ABX9TyMlGbXgdg8WBls4Poq5HkcO",
      "include_colab_link": true
    },
    "kernelspec": {
      "name": "python3",
      "display_name": "Python 3"
    },
    "language_info": {
      "name": "python"
    }
  },
  "cells": [
    {
      "cell_type": "markdown",
      "metadata": {
        "id": "view-in-github",
        "colab_type": "text"
      },
      "source": [
        "<a href=\"https://colab.research.google.com/github/isaacdono/ml-studies/blob/main/clustering.ipynb\" target=\"_parent\"><img src=\"https://colab.research.google.com/assets/colab-badge.svg\" alt=\"Open In Colab\"/></a>"
      ]
    },
    {
      "cell_type": "markdown",
      "source": [
        "# Estudo Prático: Algoritmos de Clustering com K-Means\n",
        "\n",
        "**Clustering** (ou Agrupamento) é uma técnica de aprendizado de máquina **não supervisionado**. O objetivo é agrupar dados com base em sua semelhança, sem ter rótulos pré-definidos.\n",
        "\n",
        "Neste notebook, vamos:\n",
        "1.  Gerar um conjunto de dados sintético com grupos distintos.\n",
        "2.  Utilizar o **\"Método do Cotovelo\" (Elbow Method)** para encontrar o número ideal de clusters (k).\n",
        "3.  Aplicar o algoritmo **K-Means** para encontrar e identificar esses clusters.\n",
        "4.  Visualizar os resultados e os centroides encontrados pelo algoritmo."
      ],
      "metadata": {
        "id": "OqnJm0faNq-o"
      }
    },
    {
      "cell_type": "code",
      "source": [
        "import matplotlib.pyplot as plt\n",
        "import seaborn as sns\n",
        "from sklearn.datasets import make_blobs\n",
        "from sklearn.cluster import KMeans\n",
        "\n",
        "print(\"Bibliotecas importadas com sucesso!\")"
      ],
      "metadata": {
        "id": "nw2Ly2tYNtSt"
      },
      "execution_count": null,
      "outputs": []
    },
    {
      "cell_type": "code",
      "source": [
        "# Vamos criar um dataset com 4 grupos (clusters) distintos.\n",
        "# y_true armazena os rótulos verdadeiros, mas não os usaremos para treinar,\n",
        "# apenas para comparar no final.\n",
        "X, y_true = make_blobs(n_samples=400, centers=4,\n",
        "                       cluster_std=0.8, random_state=42)\n",
        "\n",
        "# Visualizando os dados como se não soubéssemos os grupos\n",
        "plt.figure(figsize=(8, 6))\n",
        "plt.scatter(X[:, 0], X[:, 1], s=50, cmap='viridis')\n",
        "plt.title(\"Dados Brutos (Grupos Desconhecidos)\")\n",
        "plt.xlabel(\"Feature 1\")\n",
        "plt.ylabel(\"Feature 2\")\n",
        "plt.grid(True)\n",
        "plt.show()"
      ],
      "metadata": {
        "id": "ayrtQ1lTNvHT"
      },
      "execution_count": null,
      "outputs": []
    },
    {
      "cell_type": "code",
      "source": [
        "# Vamos criar um dataset com 4 grupos (clusters) distintos.\n",
        "# y_true armazena os rótulos verdadeiros, mas não os usaremos para treinar,\n",
        "# apenas para comparar no final.\n",
        "X, y_true = make_blobs(n_samples=400, centers=4,\n",
        "                       cluster_std=0.8, random_state=42)\n",
        "\n",
        "# Visualizando os dados como se não soubéssemos os grupos\n",
        "plt.figure(figsize=(8, 6))\n",
        "plt.scatter(X[:, 0], X[:, 1], s=50, cmap='viridis')\n",
        "plt.title(\"Dados Brutos (Grupos Desconhecidos)\")\n",
        "plt.xlabel(\"Feature 1\")\n",
        "plt.ylabel(\"Feature 2\")\n",
        "plt.grid(True)\n",
        "plt.show()"
      ],
      "metadata": {
        "id": "p4Rjs1YENxKw"
      },
      "execution_count": null,
      "outputs": []
    },
    {
      "cell_type": "code",
      "source": [
        "\"\"\"\n",
        "### Passo 2: Treinar o Modelo K-Means\n",
        "\n",
        "Com base no Método do Cotovelo, escolhemos k=4 e aplicamos o algoritmo K-Means aos nossos dados.\n",
        "\"\"\"\n",
        "# Instanciando e treinando o modelo com o número ideal de clusters\n",
        "kmeans = KMeans(n_clusters=4, random_state=42, n_init='auto')\n",
        "y_kmeans = kmeans.fit_predict(X)\n",
        "\n",
        "# O método .fit_predict() treina e retorna os rótulos dos clusters para cada ponto.\n",
        "print(\"Algoritmo K-Means aplicado com k=4.\")\n"
      ],
      "metadata": {
        "id": "XRQXpbRVN1Xw"
      },
      "execution_count": null,
      "outputs": []
    },
    {
      "cell_type": "code",
      "source": [
        "\"\"\"\n",
        "### Passo 3: Visualizar os Resultados\n",
        "\n",
        "Agora, vamos plotar os dados novamente, mas colorindo cada ponto de acordo com o cluster que o K-Means atribuiu a ele. Também vamos marcar os centroides (os \"centros\" dos clusters) que o algoritmo encontrou.\n",
        "\"\"\"\n",
        "\n",
        "# Obtendo os centroides\n",
        "centers = kmeans.cluster_centers_\n",
        "\n",
        "plt.figure(figsize=(10, 8))\n",
        "# Plotando os pontos de dados, coloridos por cluster\n",
        "plt.scatter(X[:, 0], X[:, 1], c=y_kmeans, s=50, cmap='viridis', alpha=0.7)\n",
        "\n",
        "# Plotando os centroides\n",
        "plt.scatter(centers[:, 0], centers[:, 1], c='red', s=200, alpha=0.9, marker='X', label='Centroides')\n",
        "\n",
        "plt.title('Clusters Encontrados pelo K-Means')\n",
        "plt.xlabel('Feature 1')\n",
        "plt.ylabel('Feature 2')\n",
        "plt.legend()\n",
        "plt.grid(True)\n",
        "plt.show()\n",
        "\n"
      ],
      "metadata": {
        "id": "XubPo-3wN6h5"
      },
      "execution_count": null,
      "outputs": []
    },
    {
      "cell_type": "code",
      "source": [
        "\"\"\"\n",
        "### Passo 4: Comparação (Opcional)\n",
        "\n",
        "Como geramos os dados, temos os rótulos verdadeiros. Podemos comparar visualmente os clusters encontrados pelo K-Means com os grupos originais para avaliar a performance.\n",
        "\"\"\"\n",
        "\n",
        "fig, (ax1, ax2) = plt.subplots(1, 2, figsize=(16, 7), sharey=True)\n",
        "\n",
        "# Gráfico com os clusters do K-Means\n",
        "ax1.scatter(X[:, 0], X[:, 1], c=y_kmeans, s=50, cmap='viridis')\n",
        "ax1.scatter(centers[:, 0], centers[:, 1], c='red', s=200, marker='X')\n",
        "ax1.set_title('Clusters Encontrados pelo K-Means')\n",
        "ax1.set_xlabel('Feature 1')\n",
        "ax1.set_ylabel('Feature 2')\n",
        "ax1.grid(True)\n",
        "\n",
        "# Gráfico com os rótulos verdadeiros\n",
        "ax2.scatter(X[:, 0], X[:, 1], c=y_true, s=50, cmap='viridis')\n",
        "ax2.set_title('Grupos Originais (Verdadeiros)')\n",
        "ax2.set_xlabel('Feature 1')\n",
        "ax2.grid(True)\n",
        "\n",
        "plt.suptitle('Comparação: K-Means vs. Rótulos Verdadeiros', fontsize=16)\n",
        "plt.show()\n",
        "\n",
        "\"\"\"\n",
        "**Conclusão:** O algoritmo K-Means, guiado pelo Método do Cotovelo, foi capaz de identificar com sucesso os 4 grupos latentes nos dados. A visualização mostra que os clusters encontrados correspondem quase perfeitamente aos grupos originais, demonstrando a eficácia do K-Means para dados com essa estrutura.\n",
        "\"\"\""
      ],
      "metadata": {
        "id": "y9rRxoivN7v9"
      },
      "execution_count": null,
      "outputs": []
    }
  ]
}